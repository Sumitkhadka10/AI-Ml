{
  "nbformat": 4,
  "nbformat_minor": 0,
  "metadata": {
    "colab": {
      "provenance": []
    },
    "kernelspec": {
      "name": "python3",
      "display_name": "Python 3"
    },
    "language_info": {
      "name": "python"
    }
  },
  "cells": [
    {
      "cell_type": "markdown",
      "source": [
        "**4. TO - DO - Task**\n",
        "\n",
        "**4.1 Exercises on Functions**\n",
        "\n",
        " Task 1\n",
        "\n"
      ],
      "metadata": {
        "id": "TqcBUz1j2rRB"
      }
    },
    {
      "cell_type": "code",
      "execution_count": 1,
      "metadata": {
        "colab": {
          "base_uri": "https://localhost:8080/"
        },
        "id": "7ZHsLb7l2fAV",
        "outputId": "7f911508-4d2f-41ef-9e41-00f84702a3a8"
      },
      "outputs": [
        {
          "output_type": "stream",
          "name": "stdout",
          "text": [
            "Unit Converter\n",
            "1. Length (meters to feet, feet to meters)\n",
            "2. Weight (kilograms to pounds, pounds to kilograms)\n",
            "3. Volume (liters to gallons, gallons to liters)\n",
            "Choose a conversion type (1-3): 2\n",
            "1. Kilograms to Pounds\n",
            "2. Pounds to Kilograms\n",
            "Choose conversion (1-2): 1\n",
            "Enter kilograms: 1\n",
            "1.0 kg = 2.20 lbs\n"
          ]
        }
      ],
      "source": [
        "def meters_to_feet(meters):\n",
        "    \"\"\"\n",
        "    Convert meters to feet.\n",
        "    :param meters: Value in meters (float)\n",
        "    :return: Equivalent value in feet (float)\n",
        "    \"\"\"\n",
        "    return meters * 3.28084\n",
        "\n",
        "def feet_to_meters(feet):\n",
        "    \"\"\"\n",
        "    Convert feet to meters.\n",
        "    :param feet: Value in feet (float)\n",
        "    :return: Equivalent value in meters (float)\n",
        "    \"\"\"\n",
        "    return feet / 3.28084\n",
        "\n",
        "def kilograms_to_pounds(kg):\n",
        "    \"\"\"\n",
        "    Convert kilograms to pounds.\n",
        "    :param kg: Value in kilograms (float)\n",
        "    :return: Equivalent value in pounds (float)\n",
        "    \"\"\"\n",
        "    return kg * 2.20462\n",
        "\n",
        "def pounds_to_kilograms(lbs):\n",
        "    \"\"\"\n",
        "    Convert pounds to kilograms.\n",
        "    :param lbs: Value in pounds (float)\n",
        "    :return: Equivalent value in kilograms (float)\n",
        "    \"\"\"\n",
        "    return lbs / 2.20462\n",
        "\n",
        "def liters_to_gallons(liters):\n",
        "    \"\"\"\n",
        "    Convert liters to gallons.\n",
        "    :param liters: Value in liters (float)\n",
        "    :return: Equivalent value in gallons (float)\n",
        "    \"\"\"\n",
        "    return liters * 0.264172\n",
        "\n",
        "def gallons_to_liters(gallons):\n",
        "    \"\"\"\n",
        "    Convert gallons to liters.\n",
        "    :param gallons: Value in gallons (float)\n",
        "    :return: Equivalent value in liters (float)\n",
        "    \"\"\"\n",
        "    return gallons / 0.264172\n",
        "\n",
        "def main():\n",
        "    print(\"Unit Converter\")\n",
        "    print(\"1. Length (meters to feet, feet to meters)\")\n",
        "    print(\"2. Weight (kilograms to pounds, pounds to kilograms)\")\n",
        "    print(\"3. Volume (liters to gallons, gallons to liters)\")\n",
        "\n",
        "    try:\n",
        "        choice = int(input(\"Choose a conversion type (1-3): \"))\n",
        "        if choice == 1:\n",
        "            print(\"1. Meters to Feet\")\n",
        "            print(\"2. Feet to Meters\")\n",
        "            sub_choice = int(input(\"Choose conversion (1-2): \"))\n",
        "            if sub_choice == 1:\n",
        "                value = float(input(\"Enter meters: \"))\n",
        "                print(f\"{value} meters = {meters_to_feet(value):.2f} feet\")\n",
        "            elif sub_choice == 2:\n",
        "                value = float(input(\"Enter feet: \"))\n",
        "                print(f\"{value} feet = {feet_to_meters(value):.2f} meters\")\n",
        "            else:\n",
        "                print(\"Invalid choice.\")\n",
        "        elif choice == 2:\n",
        "            print(\"1. Kilograms to Pounds\")\n",
        "            print(\"2. Pounds to Kilograms\")\n",
        "            sub_choice = int(input(\"Choose conversion (1-2): \"))\n",
        "            if sub_choice == 1:\n",
        "                value = float(input(\"Enter kilograms: \"))\n",
        "                print(f\"{value} kg = {kilograms_to_pounds(value):.2f} lbs\")\n",
        "            elif sub_choice == 2:\n",
        "                value = float(input(\"Enter pounds: \"))\n",
        "                print(f\"{value} lbs = {pounds_to_kilograms(value):.2f} kg\")\n",
        "            else:\n",
        "                print(\"Invalid choice.\")\n",
        "        elif choice == 3:\n",
        "            print(\"1. Liters to Gallons\")\n",
        "            print(\"2. Gallons to Liters\")\n",
        "            sub_choice = int(input(\"Choose conversion (1-2): \"))\n",
        "            if sub_choice == 1:\n",
        "                value = float(input(\"Enter liters: \"))\n",
        "                print(f\"{value} L = {liters_to_gallons(value):.2f} gal\")\n",
        "            elif sub_choice == 2:\n",
        "                value = float(input(\"Enter gallons: \"))\n",
        "                print(f\"{value} gal = {gallons_to_liters(value):.2f} L\")\n",
        "            else:\n",
        "                print(\"Invalid choice.\")\n",
        "        else:\n",
        "            print(\"Invalid choice. Please select a valid option.\")\n",
        "    except ValueError:\n",
        "        print(\"Invalid input. Please enter a numeric value.\")\n",
        "\n",
        "if __name__ == \"__main__\":\n",
        "    main()"
      ]
    },
    {
      "cell_type": "markdown",
      "source": [
        "***Task 2***"
      ],
      "metadata": {
        "id": "HPMD5tq63hS1"
      }
    },
    {
      "cell_type": "code",
      "source": [
        "def calculate_sum(numbers):\n",
        "    \"\"\"\n",
        "    Calculate the sum of a list of numbers.\n",
        "\n",
        "    :param numbers: List of numerical values.\n",
        "    :return: Sum of the numbers.\n",
        "    \"\"\"\n",
        "    return sum(numbers)\n",
        "\n",
        "def calculate_average(numbers):\n",
        "    \"\"\"\n",
        "    Calculate the average of a list of numbers.\n",
        "\n",
        "    :param numbers: List of numerical values.\n",
        "    :return: Average of the numbers.\n",
        "    \"\"\"\n",
        "    return sum(numbers) / len(numbers) if numbers else 0\n",
        "\n",
        "def find_maximum(numbers):\n",
        "    \"\"\"\n",
        "    Find the maximum value in a list of numbers.\n",
        "\n",
        "    :param numbers: List of numerical values.\n",
        "    :return: Maximum value in the list.\n",
        "    \"\"\"\n",
        "    return max(numbers)\n",
        "\n",
        "def find_minimum(numbers):\n",
        "    \"\"\"\n",
        "    Find the minimum value in a list of numbers.\n",
        "\n",
        "    :param numbers: List of numerical values.\n",
        "    :return: Minimum value in the list.\n",
        "    \"\"\"\n",
        "    return min(numbers)\n",
        "\n",
        "def main():\n",
        "    print(\"Mathematical Operations on a List\")\n",
        "    print(\"1. Sum\")\n",
        "    print(\"2. Average\")\n",
        "    print(\"3. Maximum\")\n",
        "    print(\"4. Minimum\")\n",
        "\n",
        "    try:\n",
        "        choice = int(input(\"Choose an operation (1-4): \"))\n",
        "        numbers = input(\"Enter a list of numbers separated by spaces: \").split()\n",
        "\n",
        "        # Convert input to a list of floats\n",
        "        numbers = [float(num) for num in numbers]\n",
        "\n",
        "        if not numbers:\n",
        "            raise ValueError(\"The list is empty. Please enter some numbers.\")\n",
        "\n",
        "        if choice == 1:\n",
        "            print(f\"Sum: {calculate_sum(numbers)}\")\n",
        "        elif choice == 2:\n",
        "            print(f\"Average: {calculate_average(numbers):.2f}\")\n",
        "        elif choice == 3:\n",
        "            print(f\"Maximum: {find_maximum(numbers)}\")\n",
        "        elif choice == 4:\n",
        "            print(f\"Minimum: {find_minimum(numbers)}\")\n",
        "        else:\n",
        "            print(\"Invalid choice. Please select a valid option.\")\n",
        "\n",
        "    except ValueError as e:\n",
        "        print(f\"Error: {e}. Please enter valid numerical values.\")\n",
        "\n",
        "if __name__ == \"__main__\":\n",
        "    main()"
      ],
      "metadata": {
        "colab": {
          "base_uri": "https://localhost:8080/"
        },
        "id": "-AcjO--y3ima",
        "outputId": "5146d956-735e-4468-9d0c-ca6cfa22394b"
      },
      "execution_count": 2,
      "outputs": [
        {
          "output_type": "stream",
          "name": "stdout",
          "text": [
            "Mathematical Operations on a List\n",
            "1. Sum\n",
            "2. Average\n",
            "3. Maximum\n",
            "4. Minimum\n",
            "Choose an operation (1-4): 3\n",
            "Enter a list of numbers separated by spaces: 2\n",
            "Maximum: 2.0\n"
          ]
        }
      ]
    },
    {
      "cell_type": "markdown",
      "source": [
        "**4.2 Exercise on List Manipulation**\n",
        "\n",
        "1. Extract Every Other Element"
      ],
      "metadata": {
        "id": "RsJN6I1F4L24"
      }
    },
    {
      "cell_type": "code",
      "source": [
        "def extract_every_other(lst):\n",
        "    \"\"\"\n",
        "    Extract every other element from a list, starting from the first element.\n",
        "\n",
        "    :param lst: List of elements.\n",
        "    :return: A new list containing every other element.\n",
        "    \"\"\"\n",
        "    return lst[::2]  # Using list slicing to get every second element\n",
        "\n",
        "num_list = [1, 2, 3, 4, 5, 6]\n",
        "result = extract_every_other(num_list)\n",
        "print(result)"
      ],
      "metadata": {
        "colab": {
          "base_uri": "https://localhost:8080/"
        },
        "id": "nyn-QJLC4hid",
        "outputId": "edec8577-be23-4c22-d730-80e428a7bdfb"
      },
      "execution_count": 3,
      "outputs": [
        {
          "output_type": "stream",
          "name": "stdout",
          "text": [
            "[1, 3, 5]\n"
          ]
        }
      ]
    },
    {
      "cell_type": "markdown",
      "source": [
        "2. Slice a Sublist"
      ],
      "metadata": {
        "id": "kjwbsM3Ze1hK"
      }
    },
    {
      "cell_type": "code",
      "source": [
        "def get_sublist(lst, start, end):\n",
        "  \"\"\"\n",
        "  Returns a sublist from the given list, starting from 'start' index and ending at 'end' index (inclusive).\n",
        "\n",
        "  :param lst: List from which sublist is to be extracted\n",
        "  :param start: Starting index of the sublist\n",
        "  :param end: Ending index of the sublist (inclusive)\n",
        "  :return: Sublist from start to end index (inclusive)\n",
        "  \"\"\"\n",
        "  return lst[start:end+1]\n",
        "\n",
        "start = 2\n",
        "end = 4\n",
        "lst = [1,2,3,4,5,6]\n",
        "print(\"Output: \",get_sublist(lst, start, end))"
      ],
      "metadata": {
        "colab": {
          "base_uri": "https://localhost:8080/"
        },
        "id": "vEq_-smYepmR",
        "outputId": "f2a18415-d1c4-4400-d806-7c89e7305d6c"
      },
      "execution_count": 4,
      "outputs": [
        {
          "output_type": "stream",
          "name": "stdout",
          "text": [
            "Output:  [3, 4, 5]\n"
          ]
        }
      ]
    },
    {
      "cell_type": "markdown",
      "source": [
        "3. Reverse a List Using Slicing"
      ],
      "metadata": {
        "id": "0jhHgwUJgth2"
      }
    },
    {
      "cell_type": "code",
      "source": [
        "def reverse_list(lst):\n",
        "  \"\"\"\n",
        "  Returns a reversed list using slicing.\n",
        "\n",
        "  :param lst: List to be reversed\n",
        "  :return: Reversed list\n",
        "  \"\"\"\n",
        "\n",
        "  return lst[::-1]\n",
        "\n",
        "lst = [1,2,3,4,5,6,7,8,9]\n",
        "print(\"Reverse list: \",reverse_list(lst))"
      ],
      "metadata": {
        "colab": {
          "base_uri": "https://localhost:8080/"
        },
        "id": "MX769ncOfAmh",
        "outputId": "19033082-d60c-47bc-b9e1-9339bd52e104"
      },
      "execution_count": 5,
      "outputs": [
        {
          "output_type": "stream",
          "name": "stdout",
          "text": [
            "Reverse list:  [9, 8, 7, 6, 5, 4, 3, 2, 1]\n"
          ]
        }
      ]
    },
    {
      "cell_type": "markdown",
      "source": [
        "4. Remove the First and Last Elements"
      ],
      "metadata": {
        "id": "Q6Do2IkXld2f"
      }
    },
    {
      "cell_type": "code",
      "source": [
        "def remove_first_last(lst):\n",
        "  \"\"\"\n",
        "  Removes the first and last elements of a list and returns the resulting sublist.\n",
        "\n",
        "  :param lst: List from which first and last elements should be removed\n",
        "  :return: Sublist without the first and last elements\n",
        "  \"\"\"\n",
        "  return lst[1:-1]\n",
        "\n",
        "list = [1,2,5,2,3,6,1]\n",
        "print(\"Sublist: \",remove_first_last(list))"
      ],
      "metadata": {
        "colab": {
          "base_uri": "https://localhost:8080/"
        },
        "id": "5aBLvjvDlUee",
        "outputId": "e4e31c1f-5e1a-4112-d6cd-c4699f918c94"
      },
      "execution_count": 6,
      "outputs": [
        {
          "output_type": "stream",
          "name": "stdout",
          "text": [
            "Sublist:  [2, 5, 2, 3, 6]\n"
          ]
        }
      ]
    },
    {
      "cell_type": "markdown",
      "source": [
        "5. Get the First n Elements"
      ],
      "metadata": {
        "id": "fVSmb81TmYW3"
      }
    },
    {
      "cell_type": "code",
      "source": [
        "def get_first_n(lst, n):\n",
        "  \"\"\"\n",
        "  Returns the first n elements from a given list using slicing.\n",
        "\n",
        "  :param lst: List from which elements are to be extracted\n",
        "  :param n: Number of elements to extract from the beginning\n",
        "  :return: List containing the first n elements\n",
        "  \"\"\"\n",
        "  return lst[:n]\n",
        "\n",
        "num = 4\n",
        "list = [3,2,5,8,9,1,2]\n",
        "print(\"First nth elements: \", get_first_n(list,num))\n"
      ],
      "metadata": {
        "colab": {
          "base_uri": "https://localhost:8080/"
        },
        "id": "YDCFZY9RmX84",
        "outputId": "fd6ef7d4-1511-4f9e-c917-c18fc32ce2e2"
      },
      "execution_count": 7,
      "outputs": [
        {
          "output_type": "stream",
          "name": "stdout",
          "text": [
            "First nth elements:  [3, 2, 5, 8]\n"
          ]
        }
      ]
    },
    {
      "cell_type": "markdown",
      "source": [
        "6. Extract Elements from the End"
      ],
      "metadata": {
        "id": "Mnf2ni0yoXVP"
      }
    },
    {
      "cell_type": "code",
      "source": [
        "def get_last_n(lst, n):\n",
        "  \"\"\"\n",
        "  Returns the last n elements from a given list using slicing.\n",
        "\n",
        "  :param lst: List from which elements are to be extracted\n",
        "  :param n: Number of elements to extract from the end\n",
        "  :return: List containing the last n elements\n",
        "  \"\"\"\n",
        "  return lst[-n:] if n > 0 else []\n",
        "\n",
        "num = 2\n",
        "list = [3,2,5,8,9,1,2]\n",
        "print(\"First nth elements: \", get_last_n(list,num))"
      ],
      "metadata": {
        "colab": {
          "base_uri": "https://localhost:8080/"
        },
        "id": "oJTA_4rOoND8",
        "outputId": "34cc4c7b-b5e4-4cd8-f942-81b45eff17c6"
      },
      "execution_count": 8,
      "outputs": [
        {
          "output_type": "stream",
          "name": "stdout",
          "text": [
            "First nth elements:  [1, 2]\n"
          ]
        }
      ]
    },
    {
      "cell_type": "markdown",
      "source": [
        "7. Extract Elements in Reverse Order"
      ],
      "metadata": {
        "id": "jDwN3_6Tpvna"
      }
    },
    {
      "cell_type": "code",
      "source": [
        "def reverse_skip(lst):\n",
        "  \"\"\"\n",
        "  Returns a list of elements in reverse order, starting from the second-to-last element\n",
        "  and skipping one element in between.\n",
        "\n",
        "  :param lst: List from which elements are to be extracted\n",
        "  :return: New list containing every second element in reverse order\n",
        "  \"\"\"\n",
        "\n",
        "  return lst[-2::-2]\n",
        "\n",
        "list = [2,1,3,6,7,9]\n",
        "\n",
        "print(\"New list: \",reverse_skip(list))"
      ],
      "metadata": {
        "colab": {
          "base_uri": "https://localhost:8080/"
        },
        "id": "s2Yf1QUfpvV6",
        "outputId": "52841d75-be14-4e58-c8db-964385b52299"
      },
      "execution_count": 9,
      "outputs": [
        {
          "output_type": "stream",
          "name": "stdout",
          "text": [
            "New list:  [7, 3, 2]\n"
          ]
        }
      ]
    },
    {
      "cell_type": "markdown",
      "source": [
        "**4.3 Exercise on Nested List**\n",
        "1. Flatten a Nested List"
      ],
      "metadata": {
        "id": "0nLFzm0erPP4"
      }
    },
    {
      "cell_type": "code",
      "source": [
        "def flatten(lst):\n",
        "  flat_list = []\n",
        "  for row in lst:\n",
        "    flat_list.extend(row)\n",
        "  return flat_list\n",
        "\n",
        "\n",
        "list = [[1,2,3],[6,7,8],[3,2,1]]\n",
        "print(\"Flatten list: \",flatten(list))"
      ],
      "metadata": {
        "colab": {
          "base_uri": "https://localhost:8080/"
        },
        "id": "EyDCQJmnrG9Y",
        "outputId": "4b1c6e53-6312-488c-8e4c-17cc69db01d9"
      },
      "execution_count": 10,
      "outputs": [
        {
          "output_type": "stream",
          "name": "stdout",
          "text": [
            "Flatten list:  [1, 2, 3, 6, 7, 8, 3, 2, 1]\n"
          ]
        }
      ]
    },
    {
      "cell_type": "markdown",
      "source": [
        "2. Accessing Nested List Elements"
      ],
      "metadata": {
        "id": "NRv6iLuxsqFj"
      }
    },
    {
      "cell_type": "code",
      "source": [
        "def access_nested_element(lst, indices):\n",
        "    element = lst\n",
        "    for index in indices:\n",
        "        element = element[index]\n",
        "    return element\n",
        "\n",
        "\n",
        "nested_list = [[1, 2, 3], [4, 5, 6], [7, 8, 9]]\n",
        "indices = [1, 2]\n",
        "print(\"Nested List Elements: \",access_nested_element(nested_list, indices))"
      ],
      "metadata": {
        "colab": {
          "base_uri": "https://localhost:8080/"
        },
        "id": "GyT0lPhnsp0Y",
        "outputId": "2fba5684-a306-4c95-be89-42f835bd6738"
      },
      "execution_count": 11,
      "outputs": [
        {
          "output_type": "stream",
          "name": "stdout",
          "text": [
            "Nested List Elements:  6\n"
          ]
        }
      ]
    },
    {
      "cell_type": "markdown",
      "source": [
        "3. Sum of All Elements in a Nested List"
      ],
      "metadata": {
        "id": "4uuFBvFItYnx"
      }
    },
    {
      "cell_type": "code",
      "source": [
        "def sum_nested(lst):\n",
        "    # List comprehension answer ->\n",
        "    # return [item for sublist in lst for item in sublist]\n",
        "    res = []\n",
        "    for i in lst:\n",
        "        for j in i:\n",
        "            res.append(j)\n",
        "\n",
        "    return sum(res)\n",
        "\n",
        "res = sum_nested([[1, 2], [3, 4], [5]])\n",
        "print(\"Sum of Elements: \",res)"
      ],
      "metadata": {
        "id": "HMvh0yvstYD1",
        "colab": {
          "base_uri": "https://localhost:8080/"
        },
        "outputId": "32b5eec9-664c-48f2-b0f2-46db7276de73"
      },
      "execution_count": 12,
      "outputs": [
        {
          "output_type": "stream",
          "name": "stdout",
          "text": [
            "Sum of Elements:  15\n"
          ]
        }
      ]
    },
    {
      "cell_type": "markdown",
      "source": [
        "4. Remove Specific Element from a Nested List"
      ],
      "metadata": {
        "id": "eEWh2-revGp5"
      }
    },
    {
      "cell_type": "code",
      "source": [
        "def remove_element(lst, elem):\n",
        "    for i in lst:\n",
        "        if elem in i:\n",
        "            i.remove(elem)\n",
        "\n",
        "    return lst\n",
        "\n",
        "res = remove_element([[1, 2], [3, 4], [2,5]], 2)\n",
        "print(\"New list: \",res)"
      ],
      "metadata": {
        "id": "yRryzlmxgaP2",
        "colab": {
          "base_uri": "https://localhost:8080/"
        },
        "outputId": "910657f1-7ca0-49fc-eede-a1034b348921"
      },
      "execution_count": 13,
      "outputs": [
        {
          "output_type": "stream",
          "name": "stdout",
          "text": [
            "New list:  [[1], [3, 4], [5]]\n"
          ]
        }
      ]
    },
    {
      "cell_type": "markdown",
      "source": [
        "5. Find the Maximum Element in a Nested List"
      ],
      "metadata": {
        "id": "iF1l0dFSgN9y"
      }
    },
    {
      "cell_type": "code",
      "source": [
        "def flatten_list(lst):\n",
        "    # convert it to string, strip unnecessary characters\n",
        "    tmp = str(lst)\n",
        "    tmp = tmp.strip(\"[]\")\n",
        "    tmp = tmp.replace(\"[\", \"\").replace(\"]\", \"\").replace(\" \", \"\")\n",
        "    t_arr = tmp.split(\",\")\n",
        "\n",
        "    return [int(i) for i in t_arr]\n",
        "\n",
        "\n",
        "def find_max(lst):\n",
        "    return max(flatten_list(lst))\n",
        "\n",
        "print(\"Maximum Element in a Nested List: \",find_max([[1, 2], [3, [4, 5]], 6]))"
      ],
      "metadata": {
        "id": "YBwc02hvtfvk",
        "colab": {
          "base_uri": "https://localhost:8080/"
        },
        "outputId": "51b86a99-74fa-4850-c5c7-e9092b633e94"
      },
      "execution_count": 14,
      "outputs": [
        {
          "output_type": "stream",
          "name": "stdout",
          "text": [
            "Maximum Element in a Nested List:  6\n"
          ]
        }
      ]
    },
    {
      "cell_type": "markdown",
      "source": [
        "6. Count Occurrences of an Element in a Nested List"
      ],
      "metadata": {
        "id": "H2Stb8OKgSR_"
      }
    },
    {
      "cell_type": "code",
      "source": [
        "def count_occurrences(lst, elem):\n",
        "    \"\"\"\n",
        "    Counts the occurrences of an element in a nested list.\n",
        "\n",
        "    Args:\n",
        "        lst: The nested list to search.\n",
        "        elem: The element to count.\n",
        "\n",
        "    Returns:\n",
        "        The number of times the element appears in the list.\n",
        "    \"\"\"\n",
        "    count = 0\n",
        "    for sublist in lst:\n",
        "        for item in sublist:\n",
        "            if item == elem:\n",
        "                count += 1\n",
        "    return count\n",
        "lst = [[1, 2], [2, 3], [2, 4]]\n",
        "elem = 2\n",
        "print(\"Occurrences Count: \",count_occurrences(lst, elem))"
      ],
      "metadata": {
        "id": "vxfRHgLavHY8",
        "colab": {
          "base_uri": "https://localhost:8080/"
        },
        "outputId": "0067856d-7b23-42ad-f00a-9a81724c7f8a"
      },
      "execution_count": 15,
      "outputs": [
        {
          "output_type": "stream",
          "name": "stdout",
          "text": [
            "Occurrences Count:  3\n"
          ]
        }
      ]
    },
    {
      "cell_type": "markdown",
      "source": [
        "7. Flatten a List of Lists of Lists"
      ],
      "metadata": {
        "id": "sjwKZEb8gXW4"
      }
    },
    {
      "cell_type": "code",
      "source": [
        "def deep_flatten(lst):\n",
        "    # convert it to string, strip unnecessary characters\n",
        "    tmp = str(lst)\n",
        "    tmp = tmp.strip(\"[]\")\n",
        "    tmp = tmp.replace(\"[\", \"\").replace(\"]\", \"\").replace(\" \", \"\")\n",
        "    t_arr = tmp.split(\",\")\n",
        "\n",
        "    return [int(i) for i in t_arr]\n",
        "\n",
        "print(\"List: \",deep_flatten([[1, 2], [3, [4, 5]], 6]))"
      ],
      "metadata": {
        "id": "asErn7hYaF5u",
        "colab": {
          "base_uri": "https://localhost:8080/"
        },
        "outputId": "209c49bb-e889-45c8-8fbe-92fb8a8f9bb8"
      },
      "execution_count": 16,
      "outputs": [
        {
          "output_type": "stream",
          "name": "stdout",
          "text": [
            "List:  [1, 2, 3, 4, 5, 6]\n"
          ]
        }
      ]
    },
    {
      "cell_type": "markdown",
      "source": [
        "8. Nested List Average"
      ],
      "metadata": {
        "id": "KsdxtfLJgcTp"
      }
    },
    {
      "cell_type": "code",
      "source": [
        "def average_nested(lst):\n",
        "    \"\"\"\n",
        "    Calculate the average of all elements in a nested list.\n",
        "\n",
        "    Args:\n",
        "        lst: A nested list of numbers.\n",
        "\n",
        "    Returns:\n",
        "        The average of all elements in the nested list.\n",
        "        Returns 0 if the list is empty or contains no numbers.\n",
        "    \"\"\"\n",
        "    total = 0\n",
        "    count = 0\n",
        "    for sublist in lst:\n",
        "        for num in sublist:\n",
        "            try:\n",
        "                total += num\n",
        "                count += 1\n",
        "            except TypeError:\n",
        "                # Handle cases where a sublist element isn't a number\n",
        "                print(f\"Warning: Non-numeric element '{num}' encountered. Skipping.\")\n",
        "                continue\n",
        "    return total / count if count > 0 else 0\n",
        "\n",
        "list = [[1, 2], [3, 4], [5, 6]]\n",
        "print(\"The average: \",average_nested(list))"
      ],
      "metadata": {
        "colab": {
          "base_uri": "https://localhost:8080/"
        },
        "id": "DWwZjRhVaFqH",
        "outputId": "b713a18f-9f82-4f31-e06b-7fb5875e68fd"
      },
      "execution_count": 17,
      "outputs": [
        {
          "output_type": "stream",
          "name": "stdout",
          "text": [
            "The average:  3.5\n"
          ]
        }
      ]
    },
    {
      "cell_type": "markdown",
      "source": [
        "**10. To - Do - NumPy**\n",
        "\n",
        "**10.1 Basic Vector and Matrix Operation with Numpy.**\n",
        "\n",
        "Problem - 1: Array Creation:"
      ],
      "metadata": {
        "id": "4dggy1rowdEg"
      }
    },
    {
      "cell_type": "code",
      "source": [
        "import numpy as np\n",
        "\n",
        "# 1. Initialize an empty array with size 2x2\n",
        "empty_array = np.empty((2, 2))\n",
        "print(\"Empty Array (2x2):\\n\", empty_array)\n",
        "\n",
        "# 2. Initialize an all ones array with size 4x2\n",
        "ones_array = np.ones((4, 2))\n",
        "print(\"\\nAll Ones Array (4x2):\\n\", ones_array)\n",
        "\n",
        "# 3. Return a new array of given shape and type, filled with a fill value\n",
        "fill_value_array = np.full((3, 3), 7)  # Example: 3x3 array filled with 7\n",
        "print(\"\\nArray Filled with 7 (3x3):\\n\", fill_value_array)\n",
        "\n",
        "# 4. Return a new array of zeros with same shape and type as a given array\n",
        "sample_array = np.array([[5, 10, 15], [20, 25, 30]])\n",
        "zeros_like_array = np.zeros_like(sample_array)\n",
        "print(\"\\nZeros Array with Same Shape as Sample Array:\\n\", zeros_like_array)\n",
        "\n",
        "# 5. Return a new array of ones with same shape and type as a given array\n",
        "ones_like_array = np.ones_like(sample_array)\n",
        "print(\"\\nOnes Array with Same Shape as Sample Array:\\n\", ones_like_array)\n",
        "\n",
        "# 6. Convert an existing list to a NumPy array\n",
        "new_list = [1, 2, 3, 4]\n",
        "numpy_array = np.array(new_list)\n",
        "print(\"\\nConverted NumPy Array:\\n\", numpy_array)"
      ],
      "metadata": {
        "colab": {
          "base_uri": "https://localhost:8080/"
        },
        "id": "2He7NRidwPL8",
        "outputId": "8d0bd30d-3292-426d-ff91-c50ac7cb8cd9"
      },
      "execution_count": 18,
      "outputs": [
        {
          "output_type": "stream",
          "name": "stdout",
          "text": [
            "Empty Array (2x2):\n",
            " [[6.90375796e-310 2.33691628e-316]\n",
            " [6.90373007e-310 6.90373001e-310]]\n",
            "\n",
            "All Ones Array (4x2):\n",
            " [[1. 1.]\n",
            " [1. 1.]\n",
            " [1. 1.]\n",
            " [1. 1.]]\n",
            "\n",
            "Array Filled with 7 (3x3):\n",
            " [[7 7 7]\n",
            " [7 7 7]\n",
            " [7 7 7]]\n",
            "\n",
            "Zeros Array with Same Shape as Sample Array:\n",
            " [[0 0 0]\n",
            " [0 0 0]]\n",
            "\n",
            "Ones Array with Same Shape as Sample Array:\n",
            " [[1 1 1]\n",
            " [1 1 1]]\n",
            "\n",
            "Converted NumPy Array:\n",
            " [1 2 3 4]\n"
          ]
        }
      ]
    },
    {
      "cell_type": "markdown",
      "source": [
        "Problem - 2: Array Manipulation: Numerical Ranges and Array indexing"
      ],
      "metadata": {
        "id": "VD1MYjcAxQUs"
      }
    },
    {
      "cell_type": "code",
      "source": [
        "import numpy as np\n",
        "\n",
        "# 1. Create an array with values ranging from 10 to 49\n",
        "arr1 = np.arange(10, 50)\n",
        "print(\"Array with values from 10 to 49:\\n\", arr1)\n",
        "\n",
        "# 2. Create a 3x3 matrix with values ranging from 0 to 8\n",
        "arr2 = np.arange(9).reshape(3, 3)\n",
        "print(\"\\n3x3 Matrix with values from 0 to 8:\\n\", arr2)\n",
        "\n",
        "# 3. Create a 3x3 identity matrix\n",
        "identity_matrix = np.eye(3)\n",
        "print(\"\\n3x3 Identity Matrix:\\n\", identity_matrix)\n",
        "\n",
        "# 4. Create a random array of size 30 and find the mean\n",
        "random_arr = np.random.random(30)\n",
        "mean_value = random_arr.mean()\n",
        "print(\"\\nRandom Array (size 30):\\n\", random_arr)\n",
        "print(\"Mean of the Random Array:\", mean_value)\n",
        "\n",
        "# 5. Create a 10x10 array with random values and find min/max\n",
        "random_matrix = np.random.random((10, 10))\n",
        "min_value = random_matrix.min()\n",
        "max_value = random_matrix.max()\n",
        "print(\"\\n10x10 Random Matrix:\\n\", random_matrix)\n",
        "print(\"Minimum Value:\", min_value)\n",
        "print(\"Maximum Value:\", max_value)\n",
        "\n",
        "# 6. Create a zero array of size 10 and replace 5th element with 1\n",
        "zero_array = np.zeros(10)\n",
        "zero_array[4] = 1\n",
        "print(\"\\nZero Array with 5th Element as 1:\\n\", zero_array)\n",
        "\n",
        "# 7. Reverse an array\n",
        "arr = np.array([1, 2, 0, 0, 4, 0])\n",
        "reversed_arr = arr[::-1]\n",
        "print(\"\\nReversed Array:\\n\", reversed_arr)\n",
        "\n",
        "# 8. Create a 2D array with 1 on the border and 0 inside\n",
        "border_array = np.ones((5, 5))\n",
        "border_array[1:-1, 1:-1] = 0\n",
        "print(\"\\n2D Array with 1 on Border and 0 Inside:\\n\", border_array)\n",
        "\n",
        "# 9. Create an 8x8 matrix with a checkerboard pattern\n",
        "checkerboard = np.zeros((8, 8), dtype=int)\n",
        "checkerboard[1::2, ::2] = 1\n",
        "checkerboard[::2, 1::2] = 1\n",
        "print(\"\\n8x8 Checkerboard Pattern:\\n\", checkerboard)\n"
      ],
      "metadata": {
        "colab": {
          "base_uri": "https://localhost:8080/"
        },
        "id": "j2g1ApgOxQDQ",
        "outputId": "3eeb5eb9-c61d-408f-d378-fb73d9a1828b"
      },
      "execution_count": 19,
      "outputs": [
        {
          "output_type": "stream",
          "name": "stdout",
          "text": [
            "Array with values from 10 to 49:\n",
            " [10 11 12 13 14 15 16 17 18 19 20 21 22 23 24 25 26 27 28 29 30 31 32 33\n",
            " 34 35 36 37 38 39 40 41 42 43 44 45 46 47 48 49]\n",
            "\n",
            "3x3 Matrix with values from 0 to 8:\n",
            " [[0 1 2]\n",
            " [3 4 5]\n",
            " [6 7 8]]\n",
            "\n",
            "3x3 Identity Matrix:\n",
            " [[1. 0. 0.]\n",
            " [0. 1. 0.]\n",
            " [0. 0. 1.]]\n",
            "\n",
            "Random Array (size 30):\n",
            " [0.38213655 0.62354751 0.97019447 0.74079296 0.13871265 0.52059883\n",
            " 0.17033648 0.06158374 0.62314349 0.00388006 0.91787219 0.91186101\n",
            " 0.18872472 0.41578031 0.11288949 0.66537352 0.78549723 0.24190836\n",
            " 0.90483709 0.11454527 0.53155664 0.14857402 0.73086789 0.55601837\n",
            " 0.15517764 0.50495966 0.53336775 0.28454662 0.5939036  0.14530716]\n",
            "Mean of the Random Array: 0.45594984252310866\n",
            "\n",
            "10x10 Random Matrix:\n",
            " [[0.81434627 0.0152698  0.68526107 0.45809099 0.10011606 0.9355638\n",
            "  0.05006366 0.85081735 0.38477301 0.21743958]\n",
            " [0.99103789 0.48668859 0.71874663 0.6509852  0.13359229 0.14915217\n",
            "  0.15714459 0.208694   0.44105098 0.33859501]\n",
            " [0.5998563  0.43448573 0.72759339 0.49283043 0.57572583 0.89290499\n",
            "  0.85276739 0.91977139 0.67913773 0.21051708]\n",
            " [0.49418852 0.6414595  0.79387269 0.04813278 0.88536062 0.77530856\n",
            "  0.25782131 0.84284852 0.30867121 0.33462475]\n",
            " [0.92641901 0.52741681 0.16520206 0.71248183 0.99683738 0.37880277\n",
            "  0.62030952 0.71604299 0.24800138 0.09142974]\n",
            " [0.18649475 0.49599436 0.8685147  0.73893802 0.02423926 0.89861581\n",
            "  0.42270368 0.88904634 0.30005818 0.9725734 ]\n",
            " [0.59382509 0.76004132 0.24183636 0.07947107 0.37475816 0.74528546\n",
            "  0.98663302 0.34762139 0.40319013 0.77005246]\n",
            " [0.86938213 0.82846727 0.72548723 0.61026744 0.77021627 0.373849\n",
            "  0.68212876 0.50404537 0.53736423 0.1657751 ]\n",
            " [0.81702133 0.24376984 0.95866978 0.39867712 0.41422163 0.50246173\n",
            "  0.98373283 0.45902677 0.02722121 0.69316549]\n",
            " [0.81290485 0.68760143 0.06525298 0.56757321 0.11358769 0.73823568\n",
            "  0.86217045 0.82190162 0.30834589 0.09393138]]\n",
            "Minimum Value: 0.015269800115287335\n",
            "Maximum Value: 0.9968373845171471\n",
            "\n",
            "Zero Array with 5th Element as 1:\n",
            " [0. 0. 0. 0. 1. 0. 0. 0. 0. 0.]\n",
            "\n",
            "Reversed Array:\n",
            " [0 4 0 0 2 1]\n",
            "\n",
            "2D Array with 1 on Border and 0 Inside:\n",
            " [[1. 1. 1. 1. 1.]\n",
            " [1. 0. 0. 0. 1.]\n",
            " [1. 0. 0. 0. 1.]\n",
            " [1. 0. 0. 0. 1.]\n",
            " [1. 1. 1. 1. 1.]]\n",
            "\n",
            "8x8 Checkerboard Pattern:\n",
            " [[0 1 0 1 0 1 0 1]\n",
            " [1 0 1 0 1 0 1 0]\n",
            " [0 1 0 1 0 1 0 1]\n",
            " [1 0 1 0 1 0 1 0]\n",
            " [0 1 0 1 0 1 0 1]\n",
            " [1 0 1 0 1 0 1 0]\n",
            " [0 1 0 1 0 1 0 1]\n",
            " [1 0 1 0 1 0 1 0]]\n"
          ]
        }
      ]
    },
    {
      "cell_type": "markdown",
      "source": [
        "Problem - 3: Array Operations"
      ],
      "metadata": {
        "id": "LbN5Now8xvVm"
      }
    },
    {
      "cell_type": "code",
      "source": [
        "import numpy as np\n",
        "\n",
        "# Given arrays\n",
        "x = np.array([[1, 2], [3, 5]])\n",
        "y = np.array([[5, 6], [7, 8]])\n",
        "v = np.array([9, 10])\n",
        "w = np.array([11, 12])\n",
        "\n",
        "# 1. Add the two arrays (x + y)\n",
        "add_result = x + y\n",
        "print(\"1. Addition of x and y:\\n\", add_result)\n",
        "\n",
        "# 2. Subtract the two arrays (x - y)\n",
        "subtract_result = x - y\n",
        "print(\"\\n2. Subtraction of x and y:\\n\", subtract_result)\n",
        "\n",
        "# 3. Multiply the array with any integer of your choice (e.g., multiply x by 2)\n",
        "multiply_result = x * 2\n",
        "print(\"\\n3. Multiply x by 2:\\n\", multiply_result)\n",
        "\n",
        "# 4. Find the square of each element of the array (x ** 2)\n",
        "square_result = x ** 2\n",
        "print(\"\\n4. Square of each element of x:\\n\", square_result)\n",
        "\n",
        "# 5. Find the dot product between:\n",
        "# v and w\n",
        "dot_vw = np.dot(v, w)\n",
        "print(\"\\n5. Dot product between v and w:\", dot_vw)\n",
        "\n",
        "# x and v\n",
        "dot_xv = np.dot(x, v)\n",
        "print(\"\\nDot product between x and v:\\n\", dot_xv)\n",
        "\n",
        "# x and y\n",
        "dot_xy = np.dot(x, y)\n",
        "print(\"\\nDot product between x and y:\\n\", dot_xy)\n",
        "\n",
        "# 6. Concatenate x and y along row and v and w along column\n",
        "\n",
        "# Concatenate x and y along rows (axis=0)\n",
        "concat_xy_row = np.concatenate((x, y), axis=0)\n",
        "print(\"\\n6. Concatenate x and y along row:\\n\", concat_xy_row)\n",
        "\n",
        "# Concatenate v and w along columns (axis=1)\n",
        "v_w_column = np.concatenate((v.reshape(-1, 1), w.reshape(-1, 1)), axis=1)\n",
        "print(\"\\nConcatenate v and w along column:\\n\", v_w_column)\n",
        "\n",
        "# 7. Concatenate x and v; if you get an error, observe and explain why\n",
        "\n",
        "try:\n",
        "    concat_xv = np.concatenate((x, v), axis=1)\n",
        "    print(\"\\n7. Concatenate x and v along columns:\\n\", concat_xv)\n",
        "except ValueError as e:\n",
        "    print(\"\\nError:\", e)"
      ],
      "metadata": {
        "colab": {
          "base_uri": "https://localhost:8080/"
        },
        "id": "iLFy3LKZxtdy",
        "outputId": "0e83d26e-8b83-46aa-b17a-3b2fff0d5ea5"
      },
      "execution_count": 20,
      "outputs": [
        {
          "output_type": "stream",
          "name": "stdout",
          "text": [
            "1. Addition of x and y:\n",
            " [[ 6  8]\n",
            " [10 13]]\n",
            "\n",
            "2. Subtraction of x and y:\n",
            " [[-4 -4]\n",
            " [-4 -3]]\n",
            "\n",
            "3. Multiply x by 2:\n",
            " [[ 2  4]\n",
            " [ 6 10]]\n",
            "\n",
            "4. Square of each element of x:\n",
            " [[ 1  4]\n",
            " [ 9 25]]\n",
            "\n",
            "5. Dot product between v and w: 219\n",
            "\n",
            "Dot product between x and v:\n",
            " [29 77]\n",
            "\n",
            "Dot product between x and y:\n",
            " [[19 22]\n",
            " [50 58]]\n",
            "\n",
            "6. Concatenate x and y along row:\n",
            " [[1 2]\n",
            " [3 5]\n",
            " [5 6]\n",
            " [7 8]]\n",
            "\n",
            "Concatenate v and w along column:\n",
            " [[ 9 11]\n",
            " [10 12]]\n",
            "\n",
            "Error: all the input arrays must have same number of dimensions, but the array at index 0 has 2 dimension(s) and the array at index 1 has 1 dimension(s)\n"
          ]
        }
      ]
    },
    {
      "cell_type": "markdown",
      "source": [
        "Problem - 4: Matrix Operations"
      ],
      "metadata": {
        "id": "uBl4fIMXyHBN"
      }
    },
    {
      "cell_type": "code",
      "source": [
        "import numpy as np\n",
        "\n",
        "# Given arrays A and B\n",
        "A = np.array([[3, 4], [7, 8]])\n",
        "B = np.array([[5, 3], [2, 1]])\n",
        "\n",
        "# Task 1: Prove A * A^(-1) = I (Identity Matrix)\n",
        "A_inv = np.linalg.inv(A)\n",
        "identity_matrix = np.dot(A, A_inv)\n",
        "print(\"1. A * A^(-1) = Identity Matrix:\\n\", identity_matrix)\n",
        "\n",
        "# Task 2: Prove AB != BA\n",
        "AB = np.dot(A, B)\n",
        "BA = np.dot(B, A)\n",
        "print(\"\\n2. AB != BA:\")\n",
        "print(\"AB:\\n\", AB)\n",
        "print(\"BA:\\n\", BA)\n",
        "print(\"Are AB and BA equal?\", np.array_equal(AB, BA))\n",
        "\n",
        "# Task 3: Prove (AB)^T = B^T * A^T\n",
        "AB_transpose = np.transpose(AB)  # (AB)^T\n",
        "B_transpose_A_transpose = np.dot(np.transpose(B), np.transpose(A))  # B^T * A^T\n",
        "print(\"\\n3. (AB)^T = B^T * A^T:\")\n",
        "print(\"(AB)^T:\\n\", AB_transpose)\n",
        "print(\"B^T * A^T:\\n\", B_transpose_A_transpose)\n",
        "print(\"Are (AB)^T and B^T * A^T equal?\", np.array_equal(AB_transpose, B_transpose_A_transpose))\n",
        "\n",
        "# Task 4: Solve the system of linear equations using Inverse Method\n",
        "# Represent the system in matrix form A * X = B\n",
        "A_system = np.array([[2, -3, 1], [1, -1, 2], [3, 1, -1]])\n",
        "B_system = np.array([-1, -3, 9])\n",
        "\n",
        "# Using the Inverse of A to solve for X\n",
        "A_inv_system = np.linalg.inv(A_system)\n",
        "X = np.dot(A_inv_system, B_system)\n",
        "print(\"\\n4. Solution of the system of linear equations (using Inverse method):\")\n",
        "print(f\"x = {X[0]}, y = {X[1]}, z = {X[2]}\")\n",
        "\n",
        "# Task 5: Solve the system using np.linalg.solve function\n",
        "# This is another approach using np.linalg.solve\n",
        "X_solve = np.linalg.solve(A_system, B_system)\n",
        "print(\"\\n5. Solution of the system using np.linalg.solve:\")\n",
        "print(f\"x = {X_solve[0]}, y = {X_solve[1]}, z = {X_solve[2]}\")"
      ],
      "metadata": {
        "colab": {
          "base_uri": "https://localhost:8080/"
        },
        "id": "emn29yFXyGvg",
        "outputId": "d43d4997-2a6d-4388-a8e8-5500d6f7fda4"
      },
      "execution_count": 21,
      "outputs": [
        {
          "output_type": "stream",
          "name": "stdout",
          "text": [
            "1. A * A^(-1) = Identity Matrix:\n",
            " [[1.00000000e+00 0.00000000e+00]\n",
            " [1.77635684e-15 1.00000000e+00]]\n",
            "\n",
            "2. AB != BA:\n",
            "AB:\n",
            " [[23 13]\n",
            " [51 29]]\n",
            "BA:\n",
            " [[36 44]\n",
            " [13 16]]\n",
            "Are AB and BA equal? False\n",
            "\n",
            "3. (AB)^T = B^T * A^T:\n",
            "(AB)^T:\n",
            " [[23 51]\n",
            " [13 29]]\n",
            "B^T * A^T:\n",
            " [[23 51]\n",
            " [13 29]]\n",
            "Are (AB)^T and B^T * A^T equal? True\n",
            "\n",
            "4. Solution of the system of linear equations (using Inverse method):\n",
            "x = 2.0, y = 1.0, z = -2.0\n",
            "\n",
            "5. Solution of the system using np.linalg.solve:\n",
            "x = 2.0, y = 1.0000000000000002, z = -2.0\n"
          ]
        }
      ]
    },
    {
      "cell_type": "markdown",
      "source": [
        "**10.2 Experiment: How Fast is Numpy?**\n",
        "\n",
        "1. Element-wise Addition"
      ],
      "metadata": {
        "id": "BV2L0yOVy3P6"
      }
    },
    {
      "cell_type": "code",
      "source": [
        "import time\n",
        "import numpy as np\n",
        "\n",
        "# List size\n",
        "size = 1_000_000\n",
        "\n",
        "# Generate two Python lists with random values\n",
        "list1 = [i for i in range(size)]\n",
        "list2 = [i for i in range(size)]\n",
        "\n",
        "# Measure time for Python list addition\n",
        "start_time = time.time()\n",
        "result_list = [list1[i] + list2[i] for i in range(size)]\n",
        "end_time = time.time()\n",
        "python_time = end_time - start_time\n",
        "print(f\"Time taken using Python lists: {python_time:.6f} seconds\")\n",
        "\n",
        "# Generate two NumPy arrays\n",
        "array1 = np.arange(size)\n",
        "array2 = np.arange(size)\n",
        "\n",
        "# Measure time for NumPy array addition\n",
        "start_time = time.time()\n",
        "result_array = array1 + array2\n",
        "end_time = time.time()\n",
        "numpy_time = end_time - start_time\n",
        "print(f\"Time taken using NumPy arrays: {numpy_time:.6f} seconds\")\n",
        "\n",
        "# Performance comparison\n",
        "speedup = python_time / numpy_time\n",
        "print(f\"NumPy is approximately {speedup:.2f} times faster than Python lists.\")"
      ],
      "metadata": {
        "id": "k_EHXb0Dy8H4",
        "colab": {
          "base_uri": "https://localhost:8080/"
        },
        "outputId": "0f8952eb-d780-4d54-8bae-d5fe7cda7965"
      },
      "execution_count": 22,
      "outputs": [
        {
          "output_type": "stream",
          "name": "stdout",
          "text": [
            "Time taken using Python lists: 0.085521 seconds\n",
            "Time taken using NumPy arrays: 0.015178 seconds\n",
            "NumPy is approximately 5.63 times faster than Python lists.\n"
          ]
        }
      ]
    },
    {
      "cell_type": "markdown",
      "source": [
        "2. Element-wise Multiplication"
      ],
      "metadata": {
        "id": "VGpiEMQTbsqN"
      }
    },
    {
      "cell_type": "code",
      "source": [
        "import time\n",
        "import numpy as np\n",
        "\n",
        "# List size\n",
        "size = 1_000_000\n",
        "\n",
        "# Generate two Python lists with values from 0 to size-1\n",
        "list1 = [i for i in range(size)]\n",
        "list2 = [i for i in range(size)]\n",
        "\n",
        "# Measure time for Python list multiplication\n",
        "start_time = time.time()\n",
        "result_list = [list1[i] * list2[i] for i in range(size)]\n",
        "end_time = time.time()\n",
        "python_time = end_time - start_time\n",
        "print(f\"Time taken using Python lists: {python_time:.6f} seconds\")\n",
        "\n",
        "# Generate two NumPy arrays\n",
        "array1 = np.arange(size)\n",
        "array2 = np.arange(size)\n",
        "\n",
        "# Measure time for NumPy array multiplication\n",
        "start_time = time.time()\n",
        "result_array = array1 * array2\n",
        "end_time = time.time()\n",
        "numpy_time = end_time - start_time\n",
        "print(f\"Time taken using NumPy arrays: {numpy_time:.6f} seconds\")\n",
        "\n",
        "# Performance comparison\n",
        "speedup = python_time / numpy_time\n",
        "print(f\"NumPy is approximately {speedup:.2f} times faster than Python lists.\")"
      ],
      "metadata": {
        "colab": {
          "base_uri": "https://localhost:8080/"
        },
        "id": "g5JplkOmbfHR",
        "outputId": "d2a150e4-8f38-412e-f903-d3795717df40"
      },
      "execution_count": 23,
      "outputs": [
        {
          "output_type": "stream",
          "name": "stdout",
          "text": [
            "Time taken using Python lists: 0.109977 seconds\n",
            "Time taken using NumPy arrays: 0.015191 seconds\n",
            "NumPy is approximately 7.24 times faster than Python lists.\n"
          ]
        }
      ]
    },
    {
      "cell_type": "markdown",
      "source": [
        "3. Dot Product"
      ],
      "metadata": {
        "id": "3khzxXdacRf-"
      }
    },
    {
      "cell_type": "code",
      "source": [
        "import time\n",
        "import numpy as np\n",
        "\n",
        "# List size\n",
        "size = 1_000_000\n",
        "\n",
        "# Generate two Python lists\n",
        "list1 = [i for i in range(size)]\n",
        "list2 = [i for i in range(size)]\n",
        "\n",
        "# Measure time for dot product using Python lists\n",
        "start_time = time.time()\n",
        "dot_product_list = sum(list1[i] * list2[i] for i in range(size))\n",
        "end_time = time.time()\n",
        "python_time = end_time - start_time\n",
        "print(f\"Time taken using Python lists: {python_time:.6f} seconds\")\n",
        "\n",
        "# Generate two NumPy arrays\n",
        "array1 = np.arange(size)\n",
        "array2 = np.arange(size)\n",
        "\n",
        "# Measure time for dot product using NumPy arrays\n",
        "start_time = time.time()\n",
        "dot_product_numpy = np.dot(array1, array2)\n",
        "end_time = time.time()\n",
        "numpy_time = end_time - start_time\n",
        "print(f\"Time taken using NumPy arrays: {numpy_time:.6f} seconds\")\n",
        "\n",
        "# Performance comparison\n",
        "speedup = python_time / numpy_time\n",
        "print(f\"NumPy is approximately {speedup:.2f} times faster than Python lists.\")"
      ],
      "metadata": {
        "colab": {
          "base_uri": "https://localhost:8080/"
        },
        "id": "vw0UDNOmcROQ",
        "outputId": "cd117bd8-e737-4f3c-f473-9deaa7f58a4c"
      },
      "execution_count": 24,
      "outputs": [
        {
          "output_type": "stream",
          "name": "stdout",
          "text": [
            "Time taken using Python lists: 0.170933 seconds\n",
            "Time taken using NumPy arrays: 0.001549 seconds\n",
            "NumPy is approximately 110.35 times faster than Python lists.\n"
          ]
        }
      ]
    },
    {
      "cell_type": "markdown",
      "source": [
        "4. Matrix Multiplication"
      ],
      "metadata": {
        "id": "UiaJxCZfceaj"
      }
    },
    {
      "cell_type": "code",
      "source": [
        "import time\n",
        "import numpy as np\n",
        "\n",
        "# Matrix size\n",
        "size = 1000\n",
        "\n",
        "# Generate two matrices using Python lists\n",
        "matrix1 = [[i * j for j in range(size)] for i in range(size)]\n",
        "matrix2 = [[j * i for j in range(size)] for i in range(size)]\n",
        "\n",
        "# Measure time for matrix multiplication using Python lists\n",
        "start_time = time.time()\n",
        "result_matrix = [[sum(matrix1[i][k] * matrix2[k][j] for k in range(size)) for j in range(size)] for i in range(size)]\n",
        "end_time = time.time()\n",
        "python_time = end_time - start_time\n",
        "print(f\"Time taken using Python lists: {python_time:.6f} seconds\")\n",
        "\n",
        "# Generate two NumPy matrices\n",
        "array1 = np.array(matrix1)\n",
        "array2 = np.array(matrix2)\n",
        "\n",
        "# Measure time for matrix multiplication using NumPy\n",
        "start_time = time.time()\n",
        "result_array = np.dot(array1, array2)  # or array1 @ array2\n",
        "end_time = time.time()\n",
        "numpy_time = end_time - start_time\n",
        "print(f\"Time taken using NumPy arrays: {numpy_time:.6f} seconds\")\n",
        "\n",
        "# Performance comparison\n",
        "speedup = python_time / numpy_time\n",
        "print(f\"NumPy is approximately {speedup:.2f} times faster than Python lists.\")"
      ],
      "metadata": {
        "colab": {
          "base_uri": "https://localhost:8080/"
        },
        "id": "zsgmHxSqceMv",
        "outputId": "88e6a246-5a0f-49f2-f42a-63ba5a3802a7"
      },
      "execution_count": 25,
      "outputs": [
        {
          "output_type": "stream",
          "name": "stdout",
          "text": [
            "Time taken using Python lists: 189.652316 seconds\n",
            "Time taken using NumPy arrays: 1.980987 seconds\n",
            "NumPy is approximately 95.74 times faster than Python lists.\n"
          ]
        }
      ]
    }
  ]
}